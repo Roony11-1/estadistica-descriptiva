{
  "nbformat": 4,
  "nbformat_minor": 0,
  "metadata": {
    "colab": {
      "provenance": [],
      "include_colab_link": true
    },
    "kernelspec": {
      "name": "python3",
      "display_name": "Python 3"
    },
    "language_info": {
      "name": "python"
    }
  },
  "cells": [
    {
      "cell_type": "markdown",
      "metadata": {
        "id": "view-in-github",
        "colab_type": "text"
      },
      "source": [
        "<a href=\"https://colab.research.google.com/github/Roony11-1/estadistica-descriptiva/blob/main/Laboratorio_0_Introducci%C3%B3n_a_Pandas.ipynb\" target=\"_parent\"><img src=\"https://colab.research.google.com/assets/colab-badge.svg\" alt=\"Open In Colab\"/></a>"
      ]
    },
    {
      "cell_type": "markdown",
      "source": [
        "# Introducción a Pandas"
      ],
      "metadata": {
        "id": "cVCbyIHyW4M2"
      }
    },
    {
      "cell_type": "markdown",
      "source": [
        "## Objetivo:"
      ],
      "metadata": {
        "id": "BniYoXt7W7bF"
      }
    },
    {
      "cell_type": "markdown",
      "source": [
        "Explorar las funciones básicas de la biblioteca Pandas en Python para cargar, visualizar y manipular estructuras de datos tipo DataFrame."
      ],
      "metadata": {
        "id": "ozgMKJUyXB8F"
      }
    },
    {
      "cell_type": "markdown",
      "source": [
        "*Nota: Este laboratorio está diseñado para desarrollar razonamiento estadístico. Evita el uso de herramientas de IA para responder las preguntas a menos que esto sea explícitamente sugerido* 🤖. *En su lugar, enfócate en aplicar los conceptos revisados.*"
      ],
      "metadata": {
        "id": "Qe9IZXxYYtbu"
      }
    },
    {
      "cell_type": "markdown",
      "source": [
        "## Actividad 1"
      ],
      "metadata": {
        "id": "wuS28MwJYkL4"
      }
    },
    {
      "cell_type": "markdown",
      "source": [
        "Antes de comenzar a trabajar con bases de datos más complejas, aprenderás a crear tus propios datos dentro de Python usando Pandas. Esto te permitirá entender mejor cómo funciona un DataFrame y practicar operaciones básicas de conteo y selección."
      ],
      "metadata": {
        "id": "imHbECJcRxxF"
      }
    },
    {
      "cell_type": "markdown",
      "source": [
        "1. Crea un DataFrame con los siguientes datos de estudiantes:\n",
        "\n",
        "<center>\n",
        "\n",
        "|Nombre| Edad (años)| Carrera|\n",
        "|------|:-----------:|--------|\n",
        "|Rodrigo | 21 | Informática|\n",
        "|Pedro | 23 | Telecomunicaciones|\n",
        "|Ignacia | 20 | Informática|\n",
        "|Luis | 24 | Informática|\n",
        "|Valentina | 22 | Analista|\n",
        "|Carlos | 20 | Telecomunicaciones|\n",
        "|Martina | 22 | Analista|\n",
        "|Javiera | 21 | Telecomunicaciones|\n",
        "|Camilo | 20 | Informática|\n",
        "|Bastián | 20 | Informática|\n",
        "\n",
        "</center>\n",
        "\n",
        "Luego, muestra en la consola el contenido completo del DataFrame."
      ],
      "metadata": {
        "id": "vAfgqn3qR3Jc"
      }
    },
    {
      "cell_type": "code",
      "source": [
        "import pandas as pd\n",
        "\n",
        "dfTabla = pd.DataFrame({\n",
        "    'Nombre': ['Rodrigo', 'Pedro', 'Ignacia', 'Luis', 'Valentina', 'Carlos', 'Martina', 'Javiera', 'Camilo', 'Bastián'],\n",
        "    'Edad (años)': [21, 23, 20, 24, 22, 20, 22, 21, 20, 20],\n",
        "    'Carrera': ['Informática', 'Telecomunicaciones', 'Informática', 'Informática', 'Analista', 'Telecomunicaciones', 'Analista', 'Telecomunicaciones', 'Infoprmática', 'Informática']\n",
        "})\n",
        "\n",
        "print(dfTabla)"
      ],
      "metadata": {
        "colab": {
          "base_uri": "https://localhost:8080/"
        },
        "id": "dpncy_IkCUk2",
        "outputId": "7a506d57-7a89-46b4-f1d5-b6162d344079"
      },
      "execution_count": 9,
      "outputs": [
        {
          "output_type": "stream",
          "name": "stdout",
          "text": [
            "      Nombre  Edad (años)             Carrera\n",
            "0    Rodrigo           21         Informática\n",
            "1      Pedro           23  Telecomunicaciones\n",
            "2    Ignacia           20         Informática\n",
            "3       Luis           24         Informática\n",
            "4  Valentina           22            Analista\n",
            "5     Carlos           20  Telecomunicaciones\n",
            "6    Martina           22            Analista\n",
            "7    Javiera           21  Telecomunicaciones\n",
            "8     Camilo           20        Infoprmática\n",
            "9    Bastián           20         Informática\n"
          ]
        }
      ]
    },
    {
      "cell_type": "markdown",
      "source": [
        "2. Muestra únicamente la columna \"Carrera\" del DataFrame creado en el inciso anterior."
      ],
      "metadata": {
        "id": "oasgdHxBWbGM"
      }
    },
    {
      "cell_type": "code",
      "source": [
        "import pandas as pd\n",
        "\n",
        "dfTabla = pd.DataFrame({\n",
        "    'Nombre': ['Rodrigo', 'Pedro', 'Ignacia', 'Luis', 'Valentina', 'Carlos', 'Martina', 'Javiera', 'Camilo', 'Bastián'],\n",
        "    'Edad (años)': [21, 23, 20, 24, 22, 20, 22, 21, 20, 20],\n",
        "    'Carrera': ['Informática', 'Telecomunicaciones', 'Informática', 'Informática', 'Analista', 'Telecomunicaciones', 'Analista', 'Telecomunicaciones', 'Infoprmática', 'Informática']\n",
        "})\n",
        "\n",
        "dfCarrera = dfTabla['Carrera']\n",
        "print(dfCarrera)"
      ],
      "metadata": {
        "colab": {
          "base_uri": "https://localhost:8080/"
        },
        "id": "zCQpbyvWCx-b",
        "outputId": "f249c6b7-cfdb-4d58-97c3-89a62cb1ea02"
      },
      "execution_count": 34,
      "outputs": [
        {
          "output_type": "stream",
          "name": "stdout",
          "text": [
            "0           Informática\n",
            "1    Telecomunicaciones\n",
            "2           Informática\n",
            "3           Informática\n",
            "4              Analista\n",
            "5    Telecomunicaciones\n",
            "6              Analista\n",
            "7    Telecomunicaciones\n",
            "8          Infoprmática\n",
            "9           Informática\n",
            "Name: Carrera, dtype: object\n"
          ]
        }
      ]
    },
    {
      "cell_type": "markdown",
      "source": [
        "3. ¿Cuántos estudiantes hay en cada carrera? Utiliza alguna función de Python para responder."
      ],
      "metadata": {
        "id": "svxsiCDVWuTe"
      }
    },
    {
      "cell_type": "code",
      "source": [
        "import pandas as pd\n",
        "\n",
        "dfTabla = pd.DataFrame({\n",
        "    'Nombre': ['Rodrigo', 'Pedro', 'Ignacia', 'Luis', 'Valentina', 'Carlos', 'Martina', 'Javiera', 'Camilo', 'Bastián'],\n",
        "    'Edad (años)': [21, 23, 20, 24, 22, 20, 22, 21, 20, 20],\n",
        "    'Carrera': ['Informática', 'Telecomunicaciones', 'Informática', 'Informática', 'Analista', 'Telecomunicaciones', 'Analista', 'Telecomunicaciones', 'Infoprmática', 'Informática']\n",
        "})\n",
        "\n",
        "dfCarrera = dfTabla['Carrera'].value_counts()\n",
        "print(dfCarrera)\n",
        "\n"
      ],
      "metadata": {
        "id": "YSlPoX7MC-tg"
      },
      "execution_count": null,
      "outputs": []
    },
    {
      "cell_type": "markdown",
      "source": [
        "4. ¿Cuál es la edad más común entre los estudiantes?"
      ],
      "metadata": {
        "id": "zajWd8y_YELL"
      }
    },
    {
      "cell_type": "code",
      "source": [
        "import pandas as pd\n",
        "\n",
        "dfTabla = pd.DataFrame({\n",
        "    'Nombre': ['Rodrigo', 'Pedro', 'Ignacia', 'Luis', 'Valentina', 'Carlos', 'Martina', 'Javiera', 'Camilo', 'Bastián'],\n",
        "    'Edad (años)': [21, 23, 20, 24, 22, 20, 22, 21, 20, 20],\n",
        "    'Carrera': ['Informática', 'Telecomunicaciones', 'Informática', 'Informática', 'Analista', 'Telecomunicaciones', 'Analista', 'Telecomunicaciones', 'Infoprmática', 'Informática']\n",
        "})\n",
        "\n",
        "dfEdad = dfTabla['Edad (años)'].mode()\n",
        "print(dfEdad)"
      ],
      "metadata": {
        "colab": {
          "base_uri": "https://localhost:8080/"
        },
        "id": "4V-TIMHODfA7",
        "outputId": "1f6dca43-77f6-48ce-a6f0-70fd2bcc04ca"
      },
      "execution_count": 31,
      "outputs": [
        {
          "output_type": "stream",
          "name": "stdout",
          "text": [
            "0    20\n",
            "Name: Edad (años), dtype: int64\n"
          ]
        }
      ]
    },
    {
      "cell_type": "markdown",
      "source": [
        "5. Se espera que estos estudiantes egresen de su carrera en aproximadamente 3 años más. Agrega una nueva columna al DataFrame llamada \"Edad al egresar\" que contenga la edad que tendrá cada estudiante al finalizar sus estudios. Luego, muestra en la consola el DataFrame actualizado."
      ],
      "metadata": {
        "id": "twD4rAaqZw6q"
      }
    },
    {
      "cell_type": "code",
      "source": [
        "import pandas as pd\n",
        "\n",
        "dfTabla = pd.DataFrame({\n",
        "    'Nombre': ['Rodrigo', 'Pedro', 'Ignacia', 'Luis', 'Valentina', 'Carlos', 'Martina', 'Javiera', 'Camilo', 'Bastián'],\n",
        "    'Edad (años)': [21, 23, 20, 24, 22, 20, 22, 21, 20, 20],\n",
        "    'Carrera': ['Informática', 'Telecomunicaciones', 'Informática', 'Informática', 'Analista', 'Telecomunicaciones', 'Analista', 'Telecomunicaciones', 'Infoprmática', 'Informática']\n",
        "})\n",
        "\n",
        "dfTabla['Edad al egresar'] = dfTabla['Edad (años)'] + 3\n",
        "print(dfTabla)"
      ],
      "metadata": {
        "colab": {
          "base_uri": "https://localhost:8080/"
        },
        "id": "VAV5cMRgDwsF",
        "outputId": "a4061978-3a37-47b8-b617-540db6ceb558"
      },
      "execution_count": 11,
      "outputs": [
        {
          "output_type": "stream",
          "name": "stdout",
          "text": [
            "      Nombre  Edad (años)             Carrera  Edad al egresar\n",
            "0    Rodrigo           21         Informática               24\n",
            "1      Pedro           23  Telecomunicaciones               26\n",
            "2    Ignacia           20         Informática               23\n",
            "3       Luis           24         Informática               27\n",
            "4  Valentina           22            Analista               25\n",
            "5     Carlos           20  Telecomunicaciones               23\n",
            "6    Martina           22            Analista               25\n",
            "7    Javiera           21  Telecomunicaciones               24\n",
            "8     Camilo           20        Infoprmática               23\n",
            "9    Bastián           20         Informática               23\n"
          ]
        }
      ]
    },
    {
      "cell_type": "markdown",
      "source": [
        "## Actividad 2"
      ],
      "metadata": {
        "id": "klDt2DHpRvdM"
      }
    },
    {
      "cell_type": "markdown",
      "source": [
        "Eres parte del equipo de soporte de datos de una empresa de telecomunicaciones. Te han pedido cargar una base de datos de clientes y realizar una primera revisión para comprender su estructura y conocer su contenido.\n",
        "\n",
        "Descarga la base de datos **<a href=\"https://docs.google.com/spreadsheets/d/1v6euDfqECe1HTJz0yFUrn7mmrt-rG9gG/export?format=xlsx\n",
        "\">aquí</a>** y sigue las instrucciones detalladas a continuación:"
      ],
      "metadata": {
        "id": "GdvkvSfjYmFH"
      }
    },
    {
      "cell_type": "markdown",
      "source": [
        "1. Sube la base de datos al entorno \"Archivos\" de Google Colab (ícono de carpeta en la barra lateral izquierda). Luego, cárgala en un DataFrame llamado `df_1`.\n",
        "\n",
        "$\\hspace{1 cm}$ *Nota: Recuerda que para cargar la base de datos a un DF debes utilizar la biblioteca Pandas de Python*."
      ],
      "metadata": {
        "id": "7MB11J9TtQh5"
      }
    },
    {
      "cell_type": "markdown",
      "source": [
        "2. Explora el contenido del DataFrame mostrando las primeras y últimas 10 filas."
      ],
      "metadata": {
        "id": "FDYIKtN4uBXM"
      }
    },
    {
      "cell_type": "markdown",
      "source": [
        "3. ¿Cuántas filas y columnas tiene la base de datos? Responde utilizando solo una línea de código."
      ],
      "metadata": {
        "id": "DGYUVtZpudPf"
      }
    },
    {
      "cell_type": "markdown",
      "source": [
        "4. ¿Qué tipo de objeto es `df_1`? Justifica utilizando una función de Python."
      ],
      "metadata": {
        "id": "IPpvksVVvUHj"
      }
    },
    {
      "cell_type": "markdown",
      "source": [
        "5. Usa la función `info()` para examinar el contenido  del DataFrame. ¿Qué tipo de datos contiene cada columna?"
      ],
      "metadata": {
        "id": "UIt2wCkQ16iL"
      }
    },
    {
      "cell_type": "markdown",
      "source": [
        "6. Cambia el tipo de dato de la columna \"Antigüedad\" a `float`. Para lograrlo, deberás reasignar esta columna con el nuevo tipo de dato. Luego, muestra las primeras 3 filas del DataFrame."
      ],
      "metadata": {
        "id": "HzKCWDyM7eTx"
      }
    },
    {
      "cell_type": "markdown",
      "source": [
        "7. Verifica que la columna \"Antigüedad\" haya cambiado correctamente su tipo de dato a `float`."
      ],
      "metadata": {
        "id": "4MlMgdXM9ZbN"
      }
    },
    {
      "cell_type": "markdown",
      "source": [
        "8. ¿Te parece correcto cambiar el tipo de dato de la columna \"Cargos mensuales (dólares)\" a tipo `int`? Justifica tu respuesta."
      ],
      "metadata": {
        "id": "rcDu-_Lp8g4z"
      }
    },
    {
      "cell_type": "code",
      "source": [
        "import pandas as pd\n",
        "\n",
        "df_1 = pd.read_excel('Base0.xlsx')\n",
        "\n",
        "print(f\"---- Primeras 10 filas ----\")\n",
        "print(df_1.head(10).to_string())\n",
        "print(f\"\\n---- Ultimas 10 filas ----\")\n",
        "print(df_1.tail(10).to_string())\n",
        "print(f\"\\n---- Cantidad de filas y columnas ----\")\n",
        "print(df_1.shape)\n",
        "print(f\"\\n---- Tipo de objeto ----\")\n",
        "print(f\"Tipo de objeto: {type(df_1)}\")\n",
        "print(f\"\\n---- Funcion Info ----\")\n",
        "print(df_1.info())\n",
        "print(f\"\\n---- Cambio de tipo de dato ----\")\n",
        "df_1['Antigüedad'] = df_1['Antigüedad'].astype(float)\n",
        "print(df_1.head(3).to_string())\n",
        "print(f\"\\n---- Verificacion de cambio de tipo de dato ----\")\n",
        "print(df_1.info())\n",
        "print(f\"\\n---- Justificacion de cambio de tipo de dato ----\")\n",
        "print(f\"No debido a que el dolar es una moneda fraccionaria\")\n"
      ],
      "metadata": {
        "colab": {
          "base_uri": "https://localhost:8080/"
        },
        "id": "E_TO3SWzEcU1",
        "outputId": "f30d57c9-f356-42ce-cb4f-029b0f1f3ca3"
      },
      "execution_count": 30,
      "outputs": [
        {
          "output_type": "stream",
          "name": "stdout",
          "text": [
            "---- Primeras 10 filas ----\n",
            "           ID     Género  Ciudadano mayor Pareja Dependientes  Antigüedad Servicio telefónico            Líneas múltiples Servicio de Internet Protección contra Malware Protección del dispositivo Soporte técnico Televisión en streaming Películas en streaming   Contrato Facturación sin papel                       Método de pago  Cargos mensuales (dólares)  Cargos totales  (dólares) Deserción Cliente\n",
            "0  7590-VHVEG   Femenino                0     Sí           No           1                  No  No hay servicio telefónico                  DSL                        No                         No              No                      No                     No  Mes a mes                    Sí                   Cheque electrónico                       29.85                      29.85                No\n",
            "1  5575-GNVDE  Masculino                0     No           No          34                  Sí                          No                  DSL                        Sí                         Sí              No                      No                     No     Un año                    No            Cheque enviado por correo                       56.95                    1889.50                No\n",
            "2  3668-QPYBK  Masculino                0     No           No           2                  Sí                          No                  DSL                        Sí                         No              No                      No                     No  Mes a mes                    Sí            Cheque enviado por correo                       53.85                     108.15                Sí\n",
            "3  7795-CFOCW  Masculino                0     No           No          45                  No  No hay servicio telefónico                  DSL                        Sí                         Sí              Sí                      No                     No     Un año                    No  Transferencia bancaria (automática)                       42.30                    1840.75                No\n",
            "4  9237-HQITU   Femenino                0     No           No           2                  Sí                          No         Fibra óptica                        No                         No              No                      No                     No  Mes a mes                    Sí                   Cheque electrónico                       70.70                     151.65                Sí\n",
            "5  9305-CDSKC   Femenino                0     No           No           8                  Sí                          Sí         Fibra óptica                        No                         Sí              No                      Sí                     Sí  Mes a mes                    Sí                   Cheque electrónico                       99.65                     820.50                Sí\n",
            "6  1452-KIOVK  Masculino                0     No           Sí          22                  Sí                          Sí         Fibra óptica                        No                         No              No                      Sí                     No  Mes a mes                    Sí      Tarjeta de crédito (automática)                       89.10                    1949.40                No\n",
            "7  6713-OKOMC   Femenino                0     No           No          10                  No  No hay servicio telefónico                  DSL                        Sí                         No              No                      No                     No  Mes a mes                    No            Cheque enviado por correo                       29.75                     301.90                No\n",
            "8  7892-POOKP   Femenino                0     Sí           No          28                  Sí                          Sí         Fibra óptica                        No                         Sí              Sí                      Sí                     Sí  Mes a mes                    Sí                   Cheque electrónico                      104.80                    3046.05                Sí\n",
            "9  6388-TABGU  Masculino                0     No           Sí          62                  Sí                          No                  DSL                        Sí                         No              No                      No                     No     Un año                    No  Transferencia bancaria (automática)                       56.15                    3487.95                No\n",
            "\n",
            "---- Ultimas 10 filas ----\n",
            "              ID     Género  Ciudadano mayor Pareja Dependientes  Antigüedad Servicio telefónico            Líneas múltiples Servicio de Internet Protección contra Malware Protección del dispositivo           Soporte técnico   Televisión en streaming    Películas en streaming   Contrato Facturación sin papel                       Método de pago  Cargos mensuales (dólares)  Cargos totales  (dólares) Deserción Cliente\n",
            "4089  0829-XXPLX   Femenino                0     No           No          20                  Sí                          No         Fibra óptica                        Sí                         Sí                        No                        Sí                        No  Mes a mes                    Sí  Transferencia bancaria (automática)                       89.40                    1871.15                No\n",
            "4090  9974-JFBHQ  Masculino                0     No           Sí          64                  Sí                          No         Fibra óptica                        No                         No                        Sí                        Sí                        Sí  Mes a mes                    Sí      Tarjeta de crédito (automática)                       99.15                    6171.20                No\n",
            "4091  5356-RHIPP  Masculino                0     No           No           1                  Sí                          No                   No  Sin servicio de internet   Sin servicio de internet  Sin servicio de internet  Sin servicio de internet  Sin servicio de internet  Mes a mes                    Sí            Cheque enviado por correo                       20.20                      20.20                Sí\n",
            "4092  6624-JDRDS   Femenino                0     No           No           6                  No  No hay servicio telefónico                  DSL                        Sí                         No                        No                        No                        No  Mes a mes                    No  Transferencia bancaria (automática)                       29.45                     161.45                No\n",
            "4093  0608-JDVEC  Masculino                0     Sí           No          50                  Sí                          No                   No  Sin servicio de internet   Sin servicio de internet  Sin servicio de internet  Sin servicio de internet  Sin servicio de internet   Dos años                    No                   Cheque electrónico                       19.80                    1013.20                No\n",
            "4094  9780-FKVVF  Masculino                0     No           No           6                  Sí                          No                  DSL                        Sí                         No                        No                        No                        Sí  Mes a mes                    Sí  Transferencia bancaria (automática)                       59.15                     336.70                No\n",
            "4095  1919-RTPQD  Masculino                0     Sí           Sí           7                  Sí                          No                  DSL                        No                         No                        No                        No                        No  Mes a mes                    No                   Cheque electrónico                       44.75                     333.65                No\n",
            "4096  5214-NLTIT  Masculino                0     Sí           Sí          72                  Sí                          Sí         Fibra óptica                        No                         Sí                        No                        No                        Sí   Dos años                    Sí      Tarjeta de crédito (automática)                       90.80                    6511.80                No\n",
            "4097  3345-PBBFH  Masculino                0     Sí           No           8                  Sí                          No                  DSL                        No                         No                        No                        No                        No  Mes a mes                    Sí  Transferencia bancaria (automática)                       49.55                     393.45                No\n",
            "4098  5055-BRMNE   Femenino                0     Sí           Sí          67                  Sí                          Sí         Fibra óptica                        Sí                         No                        Sí                        Sí                        Sí   Dos años                    No      Tarjeta de crédito (automática)                      106.70                    7009.50                No\n",
            "\n",
            "---- Cantidad de filas y columnas ----\n",
            "(4099, 20)\n",
            "\n",
            "---- Tipo de objeto ----\n",
            "Tipo de objeto: <class 'pandas.core.frame.DataFrame'>\n",
            "\n",
            "---- Funcion Info ----\n",
            "<class 'pandas.core.frame.DataFrame'>\n",
            "RangeIndex: 4099 entries, 0 to 4098\n",
            "Data columns (total 20 columns):\n",
            " #   Column                      Non-Null Count  Dtype  \n",
            "---  ------                      --------------  -----  \n",
            " 0   ID                          4099 non-null   object \n",
            " 1   Género                      4099 non-null   object \n",
            " 2   Ciudadano mayor             4099 non-null   int64  \n",
            " 3   Pareja                      4099 non-null   object \n",
            " 4   Dependientes                4099 non-null   object \n",
            " 5   Antigüedad                  4099 non-null   int64  \n",
            " 6   Servicio telefónico         4099 non-null   object \n",
            " 7   Líneas múltiples            4099 non-null   object \n",
            " 8   Servicio de Internet        4099 non-null   object \n",
            " 9   Protección contra Malware   4099 non-null   object \n",
            " 10  Protección del dispositivo  4099 non-null   object \n",
            " 11  Soporte técnico             4099 non-null   object \n",
            " 12  Televisión en streaming     4099 non-null   object \n",
            " 13  Películas en streaming      4099 non-null   object \n",
            " 14  Contrato                    4099 non-null   object \n",
            " 15  Facturación sin papel       4099 non-null   object \n",
            " 16  Método de pago              4099 non-null   object \n",
            " 17  Cargos mensuales (dólares)  4099 non-null   float64\n",
            " 18  Cargos totales  (dólares)   4099 non-null   float64\n",
            " 19  Deserción Cliente           4099 non-null   object \n",
            "dtypes: float64(2), int64(2), object(16)\n",
            "memory usage: 640.6+ KB\n",
            "None\n",
            "\n",
            "---- Cambio de tipo de dato ----\n",
            "           ID     Género  Ciudadano mayor Pareja Dependientes  Antigüedad Servicio telefónico            Líneas múltiples Servicio de Internet Protección contra Malware Protección del dispositivo Soporte técnico Televisión en streaming Películas en streaming   Contrato Facturación sin papel             Método de pago  Cargos mensuales (dólares)  Cargos totales  (dólares) Deserción Cliente\n",
            "0  7590-VHVEG   Femenino                0     Sí           No         1.0                  No  No hay servicio telefónico                  DSL                        No                         No              No                      No                     No  Mes a mes                    Sí         Cheque electrónico                       29.85                      29.85                No\n",
            "1  5575-GNVDE  Masculino                0     No           No        34.0                  Sí                          No                  DSL                        Sí                         Sí              No                      No                     No     Un año                    No  Cheque enviado por correo                       56.95                    1889.50                No\n",
            "2  3668-QPYBK  Masculino                0     No           No         2.0                  Sí                          No                  DSL                        Sí                         No              No                      No                     No  Mes a mes                    Sí  Cheque enviado por correo                       53.85                     108.15                Sí\n",
            "\n",
            "---- Verificacion de cambio de tipo de dato ----\n",
            "<class 'pandas.core.frame.DataFrame'>\n",
            "RangeIndex: 4099 entries, 0 to 4098\n",
            "Data columns (total 20 columns):\n",
            " #   Column                      Non-Null Count  Dtype  \n",
            "---  ------                      --------------  -----  \n",
            " 0   ID                          4099 non-null   object \n",
            " 1   Género                      4099 non-null   object \n",
            " 2   Ciudadano mayor             4099 non-null   int64  \n",
            " 3   Pareja                      4099 non-null   object \n",
            " 4   Dependientes                4099 non-null   object \n",
            " 5   Antigüedad                  4099 non-null   float64\n",
            " 6   Servicio telefónico         4099 non-null   object \n",
            " 7   Líneas múltiples            4099 non-null   object \n",
            " 8   Servicio de Internet        4099 non-null   object \n",
            " 9   Protección contra Malware   4099 non-null   object \n",
            " 10  Protección del dispositivo  4099 non-null   object \n",
            " 11  Soporte técnico             4099 non-null   object \n",
            " 12  Televisión en streaming     4099 non-null   object \n",
            " 13  Películas en streaming      4099 non-null   object \n",
            " 14  Contrato                    4099 non-null   object \n",
            " 15  Facturación sin papel       4099 non-null   object \n",
            " 16  Método de pago              4099 non-null   object \n",
            " 17  Cargos mensuales (dólares)  4099 non-null   float64\n",
            " 18  Cargos totales  (dólares)   4099 non-null   float64\n",
            " 19  Deserción Cliente           4099 non-null   object \n",
            "dtypes: float64(3), int64(1), object(16)\n",
            "memory usage: 640.6+ KB\n",
            "None\n",
            "\n",
            "---- Justificacion de cambio de tipo de dato ----\n",
            "No debido a que el dolar es una moneda fraccionaria\n"
          ]
        }
      ]
    },
    {
      "cell_type": "markdown",
      "source": [
        "## Actividad 3"
      ],
      "metadata": {
        "id": "MlemxpRQBa30"
      }
    },
    {
      "cell_type": "markdown",
      "source": [
        "La empresa de telecomunicaciones te ha pedido que analices ciertas variables clave de sus clientes. Necesitas extraer columnas específicas, aplicar filtros básicos y comenzar a preparar los datos para futuros análisis más avanzados.\n",
        "\n",
        "Puedes descargar la base de datos **<a href=\"https://docs.google.com/spreadsheets/d/1v6euDfqECe1HTJz0yFUrn7mmrt-rG9gG/export?format=xlsx\n",
        "\">aquí</a>** para responder las siguientes preguntas:"
      ],
      "metadata": {
        "id": "cJZPiXgyocEA"
      }
    },
    {
      "cell_type": "markdown",
      "source": [
        "1. Muestra las cuatro primeras filas de las columnas \"Género\", \"Antigüedad\" y \"Deserción Cliente\" del DataFrame."
      ],
      "metadata": {
        "id": "gig-BLkpoe3g"
      }
    },
    {
      "cell_type": "markdown",
      "source": [
        "2. ¿Cuántos clientes de la base de datos pertenecen al género masculino y cuántos al femenino?"
      ],
      "metadata": {
        "id": "GoTROFQdqC_Y"
      }
    },
    {
      "cell_type": "markdown",
      "source": [
        "3. Calcula el total que un cliente habría pagado si su cargo mensual se hubiera mantenido constante durante todo el tiempo en la empresa. Para esto, agrega una nueva columna al DataFrame llamada \"Cargos acumulados (dólares)\", que sea el resultado de multiplicar \"Cargos mensuales\" por \"Antigüedad\". Luego, muestra las primeras 5 filas del DataFrame para verificar que la nueva columna fue agregada correctamente."
      ],
      "metadata": {
        "id": "RBgpq9HbOy29"
      }
    },
    {
      "cell_type": "markdown",
      "source": [
        "4. Crea un nuevo DataFrame que contenga la información solo de los clientes cuyo \"Servicio de Internet\" es Fibra óptica. ¿Cuántas filas tiene este nuevo DataFrame? Muestra sus primeras 5 filas para comprobar que el filtro se aplicó correctamente."
      ],
      "metadata": {
        "id": "Y-voOZ8EthTO"
      }
    },
    {
      "cell_type": "markdown",
      "source": [
        "5. ¿Cuántos clientes con fibra óptica abandonaron la empresa? Muestra las primeras 5 filas del nuevo DataFrame para comprobar que el filtro se aplicó correctamente."
      ],
      "metadata": {
        "id": "5fey6rHa6UQL"
      }
    },
    {
      "cell_type": "markdown",
      "source": [
        "6. 🤖 Utiliza la IA de Google Colab para realizar el código que permita responder esta pregunta:\n",
        "\n",
        "Calcula el promedio de \"Cargos mensuales\" de los clientes que cumplen estas tres condiciones al mismo tiempo:\n",
        "\n",
        "* Tienen servicio de internet por Fibra óptica.\n",
        "* Usan protección contra Malware.\n",
        "* Continúan en la empresa.\n",
        "\n",
        "Luego, realiza el mismo cálculo para los clientes que cumplen estas otras tres condiciones:\n",
        "* Tienen servicio de internet por DSL.\n",
        "* No usan protección contra Malware.\n",
        "* Han abandonado la empresa.\n",
        "\n",
        "Finalmente, compara ambos promedios y responde: ¿Cuál grupo paga más en promedio por los cargos mensuales? ¿ A qué crees que se podría deber esa diferencia?"
      ],
      "metadata": {
        "id": "zccbyw6VDPkh"
      }
    },
    {
      "cell_type": "code",
      "source": [
        "import pandas as pd\n",
        "\n",
        "df_1 = pd.read_excel('Base0.xlsx')\n",
        "\n",
        "print(f\"---- Primeras 4 filas ----\")\n",
        "print(df_1[['Género', 'Antigüedad', 'Deserción Cliente']].head(4).to_string())\n",
        "\n",
        "print(f\"\\n---- Cantidad de clientes por genero ----\")\n",
        "print(df_1['Género'].value_counts())\n",
        "\n",
        "print(f\"\\n---- Cargos acumulados ----\")\n",
        "df_1['Cargos acumulados (dólares)'] = df_1['Cargos mensuales (dólares)'] * df_1['Antigüedad']\n",
        "print(df_1.head(5).to_string())\n",
        "\n",
        "print(f\"\\n---- Clientes con fibra óptica ----\")\n",
        "df_2 = df_1[df_1['Servicio de Internet'] == 'Fibra óptica']\n",
        "print(df_2.head(5).to_string())\n",
        "\n",
        "print(f\"\\n---- Cantidad de clientes con fibra óptica que abandonaron la empresa ----\")\n",
        "print(df_2['Deserción Cliente'].value_counts())\n",
        "\n",
        "print(f\"\\n---- Promedio de cargos mensuales de los clientes que cumplen estas tres condiciones al mismo tiempo ----\")\n",
        "df_3 = df_1[(df_1['Servicio de Internet'] == 'Fibra óptica') & (df_1['Protección contra Malware'] == 'Sí') & (df_1['Deserción Cliente'] == 'Sí')]\n",
        "df_3_promedio = df_3['Cargos mensuales (dólares)'].mean()\n",
        "print(df_3_promedio)"
      ],
      "metadata": {
        "colab": {
          "base_uri": "https://localhost:8080/"
        },
        "id": "TcnYHegpJJ5e",
        "outputId": "a6f7d787-8958-4f39-8c0c-8bb7273449c3"
      },
      "execution_count": 33,
      "outputs": [
        {
          "output_type": "stream",
          "name": "stdout",
          "text": [
            "---- Primeras 4 filas ----\n",
            "      Género  Antigüedad Deserción Cliente\n",
            "0   Femenino           1                No\n",
            "1  Masculino          34                No\n",
            "2  Masculino           2                Sí\n",
            "3  Masculino          45                No\n",
            "\n",
            "---- Cantidad de clientes por genero ----\n",
            "Género\n",
            "Masculino    2083\n",
            "Femenino     2016\n",
            "Name: count, dtype: int64\n",
            "\n",
            "---- Cargos acumulados ----\n",
            "           ID     Género  Ciudadano mayor Pareja Dependientes  Antigüedad Servicio telefónico            Líneas múltiples Servicio de Internet Protección contra Malware Protección del dispositivo Soporte técnico Televisión en streaming Películas en streaming   Contrato Facturación sin papel                       Método de pago  Cargos mensuales (dólares)  Cargos totales  (dólares) Deserción Cliente  Cargos acumulados (dólares)\n",
            "0  7590-VHVEG   Femenino                0     Sí           No           1                  No  No hay servicio telefónico                  DSL                        No                         No              No                      No                     No  Mes a mes                    Sí                   Cheque electrónico                       29.85                      29.85                No                        29.85\n",
            "1  5575-GNVDE  Masculino                0     No           No          34                  Sí                          No                  DSL                        Sí                         Sí              No                      No                     No     Un año                    No            Cheque enviado por correo                       56.95                    1889.50                No                      1936.30\n",
            "2  3668-QPYBK  Masculino                0     No           No           2                  Sí                          No                  DSL                        Sí                         No              No                      No                     No  Mes a mes                    Sí            Cheque enviado por correo                       53.85                     108.15                Sí                       107.70\n",
            "3  7795-CFOCW  Masculino                0     No           No          45                  No  No hay servicio telefónico                  DSL                        Sí                         Sí              Sí                      No                     No     Un año                    No  Transferencia bancaria (automática)                       42.30                    1840.75                No                      1903.50\n",
            "4  9237-HQITU   Femenino                0     No           No           2                  Sí                          No         Fibra óptica                        No                         No              No                      No                     No  Mes a mes                    Sí                   Cheque electrónico                       70.70                     151.65                Sí                       141.40\n",
            "\n",
            "---- Clientes con fibra óptica ----\n",
            "            ID     Género  Ciudadano mayor Pareja Dependientes  Antigüedad Servicio telefónico Líneas múltiples Servicio de Internet Protección contra Malware Protección del dispositivo Soporte técnico Televisión en streaming Películas en streaming   Contrato Facturación sin papel                   Método de pago  Cargos mensuales (dólares)  Cargos totales  (dólares) Deserción Cliente  Cargos acumulados (dólares)\n",
            "4   9237-HQITU   Femenino                0     No           No           2                  Sí               No         Fibra óptica                        No                         No              No                      No                     No  Mes a mes                    Sí               Cheque electrónico                       70.70                     151.65                Sí                        141.4\n",
            "5   9305-CDSKC   Femenino                0     No           No           8                  Sí               Sí         Fibra óptica                        No                         Sí              No                      Sí                     Sí  Mes a mes                    Sí               Cheque electrónico                       99.65                     820.50                Sí                        797.2\n",
            "6   1452-KIOVK  Masculino                0     No           Sí          22                  Sí               Sí         Fibra óptica                        No                         No              No                      Sí                     No  Mes a mes                    Sí  Tarjeta de crédito (automática)                       89.10                    1949.40                No                       1960.2\n",
            "8   7892-POOKP   Femenino                0     Sí           No          28                  Sí               Sí         Fibra óptica                        No                         Sí              Sí                      Sí                     Sí  Mes a mes                    Sí               Cheque electrónico                      104.80                    3046.05                Sí                       2934.4\n",
            "12  8091-TTVAX  Masculino                0     Sí           No          58                  Sí               Sí         Fibra óptica                        No                         Sí              No                      Sí                     Sí     Un año                    No  Tarjeta de crédito (automática)                      100.35                    5681.10                No                       5820.3\n",
            "\n",
            "---- Cantidad de clientes con fibra óptica que abandonaron la empresa ----\n",
            "Deserción Cliente\n",
            "No    1044\n",
            "Sí     760\n",
            "Name: count, dtype: int64\n",
            "\n",
            "---- Promedio de cargos mensuales de los clientes que cumplen estas tres condiciones al mismo tiempo ----\n",
            "96.3596153846154\n"
          ]
        }
      ]
    }
  ]
}